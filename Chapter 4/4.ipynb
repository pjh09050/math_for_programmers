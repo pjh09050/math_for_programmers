{
 "cells": [
  {
   "cell_type": "markdown",
   "id": "eb366577",
   "metadata": {},
   "source": [
    "# Chapter 4 : 벡터 변환과 그래픽스"
   ]
  },
  {
   "cell_type": "markdown",
   "id": "0c6827fc",
   "metadata": {},
   "source": [
    "## 4.1 3차원 객체 변환"
   ]
  },
  {
   "cell_type": "markdown",
   "id": "e56b70b6",
   "metadata": {},
   "source": [
    "### 4.1.1 변환된 객체 그리기"
   ]
  },
  {
   "cell_type": "code",
   "execution_count": 2,
   "id": "5c50fac7",
   "metadata": {},
   "outputs": [
    {
     "name": "stdout",
     "output_type": "stream",
     "text": [
      "pygame 2.1.2 (SDL 2.0.18, Python 3.9.12)\n",
      "Hello from the pygame community. https://www.pygame.org/contribute.html\n"
     ]
    }
   ],
   "source": [
    "!python draw_teapot.py"
   ]
  },
  {
   "cell_type": "code",
   "execution_count": 6,
   "id": "c36b11aa",
   "metadata": {},
   "outputs": [
    {
     "name": "stdout",
     "output_type": "stream",
     "text": [
      "pygame 2.1.2 (SDL 2.0.18, Python 3.9.12)\n",
      "Hello from the pygame community. https://www.pygame.org/contribute.html\n"
     ]
    }
   ],
   "source": [
    "!python scale_teapot.py"
   ]
  },
  {
   "cell_type": "code",
   "execution_count": 8,
   "id": "59d66532",
   "metadata": {},
   "outputs": [
    {
     "name": "stdout",
     "output_type": "stream",
     "text": [
      "pygame 2.1.2 (SDL 2.0.18, Python 3.9.12)\n",
      "Hello from the pygame community. https://www.pygame.org/contribute.html\n"
     ]
    }
   ],
   "source": [
    "!python scale_translate_teapot.py"
   ]
  },
  {
   "cell_type": "markdown",
   "id": "10c8bc3f",
   "metadata": {},
   "source": [
    "### 4.1.2 벡터 변환 합성"
   ]
  },
  {
   "cell_type": "code",
   "execution_count": 9,
   "id": "90623d54",
   "metadata": {},
   "outputs": [],
   "source": [
    "def compose(f1,f2):\n",
    "    def new_function(input):\n",
    "        return f1(f2(input))\n",
    "    return new_function"
   ]
  },
  {
   "cell_type": "code",
   "execution_count": 10,
   "id": "1adab47c",
   "metadata": {},
   "outputs": [],
   "source": [
    "def polygon_map(transformation, polygons):\n",
    "    return[\n",
    "        [transformation(vertex) for vertex in triangle]\n",
    "        for triangle in polygons\n",
    "    ]"
   ]
  },
  {
   "cell_type": "code",
   "execution_count": 12,
   "id": "06d0e776",
   "metadata": {},
   "outputs": [],
   "source": [
    "def scale_by(scalar):\n",
    "    def new_function(v):\n",
    "        return scale(scalar, v)\n",
    "    return new_function"
   ]
  },
  {
   "cell_type": "markdown",
   "id": "55c17a7d",
   "metadata": {},
   "source": [
    "### 4.1.3 축을 기준으로 객체 회전하기"
   ]
  },
  {
   "cell_type": "code",
   "execution_count": 13,
   "id": "09647b62",
   "metadata": {},
   "outputs": [
    {
     "name": "stdout",
     "output_type": "stream",
     "text": [
      "pygame 2.1.2 (SDL 2.0.18, Python 3.9.12)\n",
      "Hello from the pygame community. https://www.pygame.org/contribute.html\n"
     ]
    }
   ],
   "source": [
    "!python rotate_teapot.py"
   ]
  },
  {
   "cell_type": "code",
   "execution_count": 14,
   "id": "d95b2131",
   "metadata": {},
   "outputs": [],
   "source": [
    "def rotate_x(angle, vector):\n",
    "    x,y,z = vector\n",
    "    new_y, new_z = rotate2d(angle, (y,z))\n",
    "    return x, new_y, new_z"
   ]
  },
  {
   "cell_type": "code",
   "execution_count": 15,
   "id": "46bee241",
   "metadata": {},
   "outputs": [],
   "source": [
    "def rotate_x_by(angle):\n",
    "    def new_function(v):\n",
    "        return rotate_x(angle,v)\n",
    "    return new_function"
   ]
  },
  {
   "cell_type": "code",
   "execution_count": 16,
   "id": "46bdd204",
   "metadata": {},
   "outputs": [
    {
     "name": "stdout",
     "output_type": "stream",
     "text": [
      "pygame 2.1.2 (SDL 2.0.18, Python 3.9.12)\n",
      "Hello from the pygame community. https://www.pygame.org/contribute.html\n"
     ]
    }
   ],
   "source": [
    "!python rotate_teapot_x.py"
   ]
  },
  {
   "cell_type": "markdown",
   "id": "60e629dd",
   "metadata": {},
   "source": [
    "### 4.1.4 자신만의 기하학적 변환 발명하기"
   ]
  },
  {
   "cell_type": "code",
   "execution_count": 17,
   "id": "704e25c6",
   "metadata": {},
   "outputs": [],
   "source": [
    "def stretch_x(vector):\n",
    "    x,y,z = vector\n",
    "    return (4.*x, y, z)"
   ]
  },
  {
   "cell_type": "code",
   "execution_count": 18,
   "id": "6d622f99",
   "metadata": {},
   "outputs": [
    {
     "name": "stdout",
     "output_type": "stream",
     "text": [
      "pygame 2.1.2 (SDL 2.0.18, Python 3.9.12)\n",
      "Hello from the pygame community. https://www.pygame.org/contribute.html\n"
     ]
    }
   ],
   "source": [
    "!python stretch_teapot.py"
   ]
  },
  {
   "cell_type": "code",
   "execution_count": 19,
   "id": "6a76f195",
   "metadata": {},
   "outputs": [],
   "source": [
    "def stretch_y(vector):\n",
    "    x,y,z = vector\n",
    "    return(x, 4.*y, z)"
   ]
  },
  {
   "cell_type": "code",
   "execution_count": 20,
   "id": "0d83ee7c",
   "metadata": {},
   "outputs": [
    {
     "name": "stdout",
     "output_type": "stream",
     "text": [
      "pygame 2.1.2 (SDL 2.0.18, Python 3.9.12)\n",
      "Hello from the pygame community. https://www.pygame.org/contribute.html\n"
     ]
    }
   ],
   "source": [
    "!python stretch_teapot_y.py"
   ]
  },
  {
   "cell_type": "code",
   "execution_count": 21,
   "id": "7e1fb8ad",
   "metadata": {},
   "outputs": [],
   "source": [
    "def cube_stretch_y(vector):\n",
    "    x,y,z = vector\n",
    "    return (x, y*y*y, z)"
   ]
  },
  {
   "cell_type": "code",
   "execution_count": 22,
   "id": "445e1fc5",
   "metadata": {},
   "outputs": [
    {
     "name": "stdout",
     "output_type": "stream",
     "text": [
      "pygame 2.1.2 (SDL 2.0.18, Python 3.9.12)\n",
      "Hello from the pygame community. https://www.pygame.org/contribute.html\n"
     ]
    }
   ],
   "source": [
    "!python cube_teapot.py"
   ]
  },
  {
   "cell_type": "code",
   "execution_count": 23,
   "id": "13b38561",
   "metadata": {},
   "outputs": [],
   "source": [
    "def slant_xy(vector):\n",
    "    x,y,z = vector\n",
    "    return (x+y, y, z)"
   ]
  },
  {
   "cell_type": "code",
   "execution_count": 24,
   "id": "cb15eb12",
   "metadata": {},
   "outputs": [
    {
     "name": "stdout",
     "output_type": "stream",
     "text": [
      "pygame 2.1.2 (SDL 2.0.18, Python 3.9.12)\n",
      "Hello from the pygame community. https://www.pygame.org/contribute.html\n"
     ]
    }
   ],
   "source": [
    "!python slant_teapot.py"
   ]
  },
  {
   "cell_type": "markdown",
   "id": "249d4dda",
   "metadata": {},
   "source": [
    "### 4.1.5 연습문제"
   ]
  },
  {
   "cell_type": "markdown",
   "id": "630481b1",
   "metadata": {},
   "source": [
    "평행이동 벡터를 입력받아 평행이동 함수를 출력으로 리턴하는 translate_by 함수를 구현하라."
   ]
  },
  {
   "cell_type": "code",
   "execution_count": 25,
   "id": "f76d841f",
   "metadata": {},
   "outputs": [],
   "source": [
    "def translate_by(translation):\n",
    "    def new_function(v):\n",
    "        return add(translation, v)\n",
    "    return new_function"
   ]
  },
  {
   "cell_type": "markdown",
   "id": "72b522a2",
   "metadata": {},
   "source": [
    "compose(f,g) 함수를 compose(*args)로 수정하라.\\\n",
    "compose(*args) 함수는 여러 함수를 인자로 받아 그 함수들을 합성한 새로운 함수를 리턴한다."
   ]
  },
  {
   "cell_type": "code",
   "execution_count": 26,
   "id": "5d957c86",
   "metadata": {},
   "outputs": [],
   "source": [
    "def compose(*args):\n",
    "    def new_function(input):\n",
    "        state = input\n",
    "        for f in reversed(args):  # 합성함수의 안쪽 함수를 먼저 적용해야 하므로 역순으로 입력\n",
    "            state = f(state) # 최종 상태는 올바른 순서로 모든 함수를 적용한 상태이다.\n",
    "        return state\n",
    "    return new_function"
   ]
  },
  {
   "cell_type": "code",
   "execution_count": 27,
   "id": "82802f26",
   "metadata": {},
   "outputs": [],
   "source": [
    "def prepend(string):\n",
    "    def new_function(input):\n",
    "        return string + input\n",
    "    return new_function\n",
    "\n",
    "f = compose(prepend(\"P\"), prepend(\"y\"), prepend(\"t\"))"
   ]
  },
  {
   "cell_type": "code",
   "execution_count": 28,
   "id": "8a39e8d4",
   "metadata": {},
   "outputs": [
    {
     "data": {
      "text/plain": [
       "'Python'"
      ]
     },
     "execution_count": 28,
     "metadata": {},
     "output_type": "execute_result"
    }
   ],
   "source": [
    "f(\"hon\")"
   ]
  },
  {
   "cell_type": "markdown",
   "id": "65bf7810",
   "metadata": {},
   "source": [
    "두 인자를 받는 파이썬 함수 f(x,y)를 입력으로 받아 이 함수를 커링한 함수를 리턴하는 curry2(f) 함수를 작성하라.\\\n",
    "예를 들어 g=curry2(f)라고 하면 두 식 f(x,y)와 g(x)(y)는 동일한 결과를 리턴해야 한다."
   ]
  },
  {
   "cell_type": "code",
   "execution_count": 29,
   "id": "6ac17b17",
   "metadata": {},
   "outputs": [],
   "source": [
    "def curry2(f):\n",
    "    def g(x):\n",
    "        def new_function(y):\n",
    "            return f(x,y)\n",
    "        return new_function\n",
    "    return g"
   ]
  },
  {
   "cell_type": "code",
   "execution_count": 30,
   "id": "04c15119",
   "metadata": {},
   "outputs": [],
   "source": [
    "from vectors import scale"
   ]
  },
  {
   "cell_type": "code",
   "execution_count": 31,
   "id": "c7031734",
   "metadata": {},
   "outputs": [
    {
     "data": {
      "text/plain": [
       "(2, 4, 6)"
      ]
     },
     "execution_count": 31,
     "metadata": {},
     "output_type": "execute_result"
    }
   ],
   "source": [
    "scale(2,(1,2,3))"
   ]
  },
  {
   "cell_type": "code",
   "execution_count": 32,
   "id": "e99cd7df",
   "metadata": {},
   "outputs": [],
   "source": [
    "scale_by = curry2(scale)"
   ]
  },
  {
   "cell_type": "code",
   "execution_count": 33,
   "id": "71801e96",
   "metadata": {},
   "outputs": [
    {
     "data": {
      "text/plain": [
       "(2, 4, 6)"
      ]
     },
     "execution_count": 33,
     "metadata": {},
     "output_type": "execute_result"
    }
   ],
   "source": [
    "scale_by(2)((1,2,3))"
   ]
  },
  {
   "cell_type": "markdown",
   "id": "e6092671",
   "metadata": {},
   "source": [
    "타깃 벡터를 주어진 배수만큼 확대.축소하지만 x방향으로만 확대.축소하는 함수 stretch_x(scalar, vector)를 작성하라.\\\n",
    "또한 이 함수와 stretch_x_by(scalar)(vector)가 동일한 결과가 되도록 커링을 적용한 함수 stretch_x_by를 작성하라."
   ]
  },
  {
   "cell_type": "code",
   "execution_count": 34,
   "id": "a2090533",
   "metadata": {},
   "outputs": [],
   "source": [
    "def stretch_x(scalar,vector):\n",
    "    x,y,z = vector\n",
    "    return (scalar*x, y, z)\n",
    "\n",
    "def stretch_x_by(scalar):\n",
    "    def new_function(vector):\n",
    "        return stretch_x(scalar, vector)\n",
    "    return new_function"
   ]
  },
  {
   "cell_type": "code",
   "execution_count": 35,
   "id": "3c502706",
   "metadata": {},
   "outputs": [
    {
     "data": {
      "text/plain": [
       "(5, 2, 3)"
      ]
     },
     "execution_count": 35,
     "metadata": {},
     "output_type": "execute_result"
    }
   ],
   "source": [
    "stretch_x(5,(1,2,3))"
   ]
  },
  {
   "cell_type": "code",
   "execution_count": 36,
   "id": "6f5cc230",
   "metadata": {},
   "outputs": [
    {
     "data": {
      "text/plain": [
       "(5, 2, 3)"
      ]
     },
     "execution_count": 36,
     "metadata": {},
     "output_type": "execute_result"
    }
   ],
   "source": [
    "stretch_x_by(5)((1,2,3))"
   ]
  },
  {
   "cell_type": "markdown",
   "id": "e689f524",
   "metadata": {},
   "source": [
    "## 4.2 일차변환 (linear transformation)"
   ]
  },
  {
   "cell_type": "markdown",
   "id": "8984fed8",
   "metadata": {},
   "source": [
    "   일차변환은 벡터합과 스칼라곱을 보존하는 벡터 변환 T이다.\n",
    "1. 임의의 입력 벡터 u와 v에 대해 T(u) + T(v) = T(u+v)이다.\n",
    "2. 임의의 스칼라 s와 벡터 v에 대해 T(sv) = sT(v)이다."
   ]
  },
  {
   "cell_type": "code",
   "execution_count": 37,
   "id": "1135c733",
   "metadata": {},
   "outputs": [],
   "source": [
    "from vectors import add,scale"
   ]
  },
  {
   "cell_type": "code",
   "execution_count": 38,
   "id": "adafca55",
   "metadata": {},
   "outputs": [],
   "source": [
    "Ae1 = (1,1,1)\n",
    "Ae2 = (1,0,-1)\n",
    "Ae3 = (0,1,1)\n",
    "def apply_A(v):\n",
    "    return add(\n",
    "        scale(v[0], Ae1),\n",
    "        scale(v[1], Ae2),\n",
    "        scale(v[2], Ae3)\n",
    "    )"
   ]
  },
  {
   "cell_type": "code",
   "execution_count": 39,
   "id": "fbe14e51",
   "metadata": {},
   "outputs": [
    {
     "name": "stdout",
     "output_type": "stream",
     "text": [
      "pygame 2.1.2 (SDL 2.0.18, Python 3.9.12)\n",
      "Hello from the pygame community. https://www.pygame.org/contribute.html\n"
     ]
    }
   ],
   "source": [
    "!python linear_transform_teapot.py"
   ]
  },
  {
   "cell_type": "markdown",
   "id": "7e94b7c6",
   "metadata": {},
   "source": [
    "### 연습문제"
   ]
  },
  {
   "cell_type": "markdown",
   "id": "05222e1e",
   "metadata": {},
   "source": [
    "스칼라 리스트 및 스칼라와 같은 개수의 벡터를 입력받아 단일 벡터를 리턴하는 파이썬 함수 linear_combination(scalars,*vectors)를 작성하라.\\\n",
    "예를 들어 linear_combination([1,2,3], (1,0,0), (0,1,0), (0,0,1))은 1 * (1,0,0) + 2 * (0,1,0) + 3 * (0,0,1) 즉 (1,2,3)을 리턴해야 한다."
   ]
  },
  {
   "cell_type": "code",
   "execution_count": 40,
   "id": "2254fef5",
   "metadata": {},
   "outputs": [],
   "source": [
    "from vectors import *\n",
    "def linear_combination(scalars, *vectors):\n",
    "    scaled = [scale(s,v) for s,v in zip(scalars, vectors)]\n",
    "    return add(*scaled)"
   ]
  },
  {
   "cell_type": "code",
   "execution_count": 41,
   "id": "9d4b797f",
   "metadata": {},
   "outputs": [
    {
     "data": {
      "text/plain": [
       "(1, 2, 3)"
      ]
     },
     "execution_count": 41,
     "metadata": {},
     "output_type": "execute_result"
    }
   ],
   "source": [
    "linear_combination([1,2,3], (1,0,0), (0,1,0), (0,0,1))"
   ]
  },
  {
   "cell_type": "markdown",
   "id": "6dbc4c74",
   "metadata": {},
   "source": [
    "3차원 벡터 변환을 입력으로 받고 표준 기저에 영향을 준 결과를 출력하는 파이썬 함수 transform_standard_basis(transform)을 작성하라."
   ]
  },
  {
   "cell_type": "code",
   "execution_count": 42,
   "id": "8634df1e",
   "metadata": {},
   "outputs": [],
   "source": [
    "def transform_standard_basis(transform):\n",
    "    return transform((1,0,0)), transform((0,1,0)), transform((0,0,1))"
   ]
  },
  {
   "cell_type": "code",
   "execution_count": 43,
   "id": "23275d1a",
   "metadata": {},
   "outputs": [],
   "source": [
    "from math import *"
   ]
  },
  {
   "cell_type": "code",
   "execution_count": 44,
   "id": "afd7bd7a",
   "metadata": {},
   "outputs": [
    {
     "data": {
      "text/plain": [
       "((1, 0.0, 0.0),\n",
       " (0, 6.123233995736766e-17, 1.0),\n",
       " (0, -1.0, 1.2246467991473532e-16))"
      ]
     },
     "execution_count": 44,
     "metadata": {},
     "output_type": "execute_result"
    }
   ],
   "source": [
    "transform_standard_basis(rotate_x_by(pi/2))"
   ]
  }
 ],
 "metadata": {
  "kernelspec": {
   "display_name": "Python 3.9.12 ('base')",
   "language": "python",
   "name": "python3"
  },
  "language_info": {
   "codemirror_mode": {
    "name": "ipython",
    "version": 3
   },
   "file_extension": ".py",
   "mimetype": "text/x-python",
   "name": "python",
   "nbconvert_exporter": "python",
   "pygments_lexer": "ipython3",
   "version": "3.9.12"
  },
  "vscode": {
   "interpreter": {
    "hash": "9763dd0ed3a4f283c47374415cc41ac8d1410df54108749c2d8eca3c3e32033c"
   }
  }
 },
 "nbformat": 4,
 "nbformat_minor": 5
}
